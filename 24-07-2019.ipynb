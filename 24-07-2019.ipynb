{
 "cells": [
  {
   "cell_type": "code",
   "execution_count": null,
   "metadata": {},
   "outputs": [],
   "source": [
    "#2020 - True\n",
    "#1900 - False\n",
    "#1600 - True\n",
    "#2008 - True\n",
    "#400 - True\n",
    "#600 - False\n",
    "\n",
    "def isLeap(year):\n",
    "    if year % 4 == 0 or year%100!=0 and year % 400==0:\n",
    "        return True\n",
    "    return False\n",
    "\n",
    "isLeap(2020)    \n",
    "    "
   ]
  },
  {
   "cell_type": "markdown",
   "metadata": {},
   "source": [
    "###  Iterators and Generators\n",
    "\n"
   ]
  },
  {
   "cell_type": "code",
   "execution_count": null,
   "metadata": {},
   "outputs": [],
   "source": [
    "def rev_str(my_str):\n",
    "    length=len(my_str)\n",
    "    for i in range(length -1,-1,-1):\n",
    "        yield my_str[i]\n",
    "        \n",
    "# for loop to reverse the string\n",
    "# output:\n",
    "#o\n",
    "#l\n",
    "#l\n",
    "#e\n",
    "#h\n",
    "for char in rev_str(\"hello\"):\n",
    "    print(char)"
   ]
  },
  {
   "cell_type": "code",
   "execution_count": null,
   "metadata": {},
   "outputs": [],
   "source": [
    "li=[1,2,3,4,5,6]\n",
    "sum(li)"
   ]
  },
  {
   "cell_type": "code",
   "execution_count": null,
   "metadata": {},
   "outputs": [],
   "source": [
    "li=[1,2,3,4,5,6]\n",
    "n=123\n",
    "sum(list(range(n+1)))\n"
   ]
  },
  {
   "cell_type": "code",
   "execution_count": null,
   "metadata": {},
   "outputs": [],
   "source": [
    "n=100\n",
    "sum(list(range(n+1)))#sum of n natural numbers"
   ]
  },
  {
   "cell_type": "code",
   "execution_count": null,
   "metadata": {},
   "outputs": [],
   "source": [
    "# calculate sum of squareroot of n natural numbers\n",
    "from math import sqrt\n",
    "def sqrtNNaturalNumbers(n):\n",
    "     return [sqrt(i) for i in list(range(1,n+1))]\n",
    "sqrtNNaturalNumbers(10)"
   ]
  },
  {
   "cell_type": "code",
   "execution_count": null,
   "metadata": {},
   "outputs": [],
   "source": [
    "from math import sqrt\n",
    "def sumsqrtNNaturalNumbers(n):\n",
    "    \n",
    "     return sum([sqrt(i) for i in list(range(1,n+1))])\n",
    "    \n",
    "sumsqrtNNaturalNumbers(10)\n",
    "\n"
   ]
  },
  {
   "cell_type": "code",
   "execution_count": null,
   "metadata": {},
   "outputs": [],
   "source": [
    "def squareListElements(li):\n",
    "    return [i ** 2 for i in li]\n",
    "squareListElements(li)\n"
   ]
  },
  {
   "cell_type": "code",
   "execution_count": null,
   "metadata": {},
   "outputs": [],
   "source": [
    "#define a function using list comprehension to\n",
    "#identify all numbers divisible by 9 in alist\n",
    "\n",
    "li=list(range(0,50))\n",
    "def divisible9LC(li):\n",
    "    return [i for i in li if i%9 ==0]\n",
    "divisible9LC(li)"
   ]
  },
  {
   "cell_type": "code",
   "execution_count": null,
   "metadata": {},
   "outputs": [],
   "source": [
    "li=list(range(1979,2019))\n",
    "def divisible9LC(li):\n",
    "    return [i for i in li if (i%4 == 0 and i%100!=0)or i%400 == 0]\n",
    "divisible9LC(li)"
   ]
  },
  {
   "cell_type": "markdown",
   "metadata": {},
   "source": [
    "### Maps\n",
    "Functions and Iterators are passed as parameters to Map"
   ]
  },
  {
   "cell_type": "code",
   "execution_count": null,
   "metadata": {},
   "outputs": [],
   "source": [
    "# functions to calculate cubes of all numbers in a list\n",
    "li=[1,2,3,4,5]\n",
    "def cube(n):\n",
    "    return n** 3\n",
    "print(list(map(cube,li)))\n",
    "print(len(list(map(cube,li))))\n",
    "print(sum(list(map(cube,li))))"
   ]
  },
  {
   "cell_type": "code",
   "execution_count": null,
   "metadata": {},
   "outputs": [],
   "source": [
    "li=[1,2,3,4,5]\n",
    "\n",
    "def cube(n):\n",
    "    return n** 3\n",
    "\n",
    "for i in li:\n",
    "    cube(i)\n",
    "    \n",
    "print((sum(list(map(cube,li)))))   \n",
    "print(sum([cube(i) for i in li]))"
   ]
  },
  {
   "cell_type": "code",
   "execution_count": null,
   "metadata": {},
   "outputs": [],
   "source": [
    "def listofDigits(n):\n",
    "    #d1 ={1:'one',2:'two',3:'three',4:'four'}\n",
    "    digit = []\n",
    "    i=0\n",
    "    while(n! = 0):\n",
    "        digit.append(n%10)\n",
    "        n=n//10\n",
    "        i +=1\n",
    "        return digit\n",
    "def numberTowords(n):\n",
    "    digits = listofDigits"
   ]
  },
  {
   "cell_type": "markdown",
   "metadata": {},
   "source": [
    "### Day Objectives\n",
    "* Packages and Modules in Python\n",
    "* Turtle Graphics\n",
    "* File Handling\n",
    "* Python Libraries for Data Processing, Analysis,Visullization.\n",
    "    * ***Numpy***  - Array Processing\n",
    "    * ***Pandas*** - Data Analysis\n",
    "    * ***Matplotlib*** - Data Visualization\n",
    "    * ***Scikit-learn*** - Machine Learning"
   ]
  },
  {
   "cell_type": "markdown",
   "metadata": {},
   "source": [
    "#### Packages and Modules\n",
    "package - collection of,subpackages or modules \n",
    "\n",
    "subpackage - collection of,subpackages or modules\n",
    "\n",
    "module - single python file consisting of functions(classes)\n",
    "\n",
    "function \n"
   ]
  },
  {
   "cell_type": "code",
   "execution_count": 1,
   "metadata": {},
   "outputs": [
    {
     "data": {
      "text/plain": [
       "64"
      ]
     },
     "execution_count": 1,
     "metadata": {},
     "output_type": "execute_result"
    }
   ],
   "source": [
    "import vysh.na as p\n",
    "p.powerN(2,6)"
   ]
  },
  {
   "cell_type": "code",
   "execution_count": 1,
   "metadata": {},
   "outputs": [
    {
     "data": {
      "text/plain": [
       "True"
      ]
     },
     "execution_count": 1,
     "metadata": {},
     "output_type": "execute_result"
    }
   ],
   "source": [
    "import vysh.na as d\n",
    "\n",
    "\n",
    "d.divisibilityTest(990)    \n"
   ]
  },
  {
   "cell_type": "code",
   "execution_count": null,
   "metadata": {},
   "outputs": [],
   "source": []
  }
 ],
 "metadata": {
  "kernelspec": {
   "display_name": "Python 3",
   "language": "python",
   "name": "python3"
  },
  "language_info": {
   "codemirror_mode": {
    "name": "ipython",
    "version": 3
   },
   "file_extension": ".py",
   "mimetype": "text/x-python",
   "name": "python",
   "nbconvert_exporter": "python",
   "pygments_lexer": "ipython3",
   "version": "3.7.3"
  }
 },
 "nbformat": 4,
 "nbformat_minor": 2
}
