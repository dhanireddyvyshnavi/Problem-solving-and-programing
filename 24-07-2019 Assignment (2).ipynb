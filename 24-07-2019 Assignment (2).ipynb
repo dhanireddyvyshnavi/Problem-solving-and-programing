{
 "cells": [
  {
   "cell_type": "markdown",
   "metadata": {},
   "source": [
    "###  1.Define a function to identity the number of times a substring is repeating in a given string\n",
    "\n",
    "substringCount('string', 'str') -> 1\n",
    "\n",
    "substringCount('1234567891122334455', '3') -> 3\n",
    "\n",
    "substringCount('abccddccc', 'cc') -> 3\n",
    "\n",
    "substringCount('aaaaaaa', 'aaa' ) -> "
   ]
  },
  {
   "cell_type": "code",
   "execution_count": 8,
   "metadata": {},
   "outputs": [
    {
     "name": "stdout",
     "output_type": "stream",
     "text": [
      "3\n",
      "3\n",
      "5\n",
      "1\n"
     ]
    }
   ],
   "source": [
    "def substringCount(str1,str2):\n",
    "    count=0\n",
    "    if len(str1)<= len(str2):\n",
    "        length = len(str1)\n",
    "        mstring =str2\n",
    "        sstring = str1\n",
    "    else:\n",
    "        length = len(str2)\n",
    "        mstring =str1\n",
    "        sstring = str2\n",
    "    for i in range(0,len(mstring)):\n",
    "        if(mstring[i:length] == sstring):\n",
    "            count+=1\n",
    "        length+=1\n",
    "    return count     \n",
    "\n",
    "print(substringCount('1234567891122334455', '3'))\n",
    "print(substringCount('abccddccc', 'cc'))\n",
    "print(substringCount('aaaaaaa', 'aaa' )) \n",
    "print(substringCount('string', 'str'))"
   ]
  },
  {
   "cell_type": "markdown",
   "metadata": {},
   "source": [
    "### 2.Define a function to merge the characters of two strings alternatively. The remaining characters of the longer string are printed in the same order at the end.\n",
    "\n",
    "mergeString('abcd', 'abcd') -> 'aabbccdd'\n",
    "\n",
    "mergeString('abc', '123456') -> 'a1b2c3456'\n",
    "\n",
    "mergeString('0', '123456') -> '0123456'"
   ]
  },
  {
   "cell_type": "code",
   "execution_count": 1,
   "metadata": {},
   "outputs": [
    {
     "name": "stdout",
     "output_type": "stream",
     "text": [
      "aabbccdd\n",
      "a1b2c3456\n",
      "0123456\n"
     ]
    }
   ],
   "source": [
    "def mergeString(T1,T2):\n",
    "    \n",
    "    lst=[]\n",
    "    str=('')\n",
    "    len1 = len(T1)\n",
    "    len2 = len(T2)\n",
    "    \n",
    "    for i in range(max(len1,len2)):\n",
    "        if i+1 <= len1:\n",
    "            lst += [T1[i]]\n",
    "            str =''.join(lst)\n",
    "        if i+1 <= len2:\n",
    "            lst += [T2[i]]\n",
    "            str =''.join(lst)\n",
    "            \n",
    "    return str\n",
    "\n",
    "print(mergeString('abcd', 'abcd'))\n",
    "\n",
    "print(mergeString('abc', '123456'))\n",
    "\n",
    "print(mergeString('0', '123456'))\n",
    "\n",
    "            "
   ]
  },
  {
   "cell_type": "markdown",
   "metadata": {},
   "source": [
    "### 3. Define a function to validate email addresses based on the following rules.\n",
    "Email should be in the format username@domain.extension\n",
    "username must start with an alphabet and can contain lowercase alphabet, digits, hyphen(-) and underscores( _ ).\n",
    "username must not contain special characters, uppercase letters, whitespaces.\n",
    "Length of username must be in the range (6, 16)\n",
    "Domain can only contain lowercase alphabet and digits with length in range (3, 10) . No special characters are allowed\n",
    "Extension can only contain lower case alphabet and its length must be in the range (2, 4)\n",
    "First line of input contains total number of email addresses n. Next n lines contain n email addresses.\n",
    "\n",
    "Output must contain contain n lines with either 'Valid' or 'Invalid'\n",
    "\n",
    "Sample Input : 6\n",
    "\n",
    "abc456@gmail.com\n",
    "\n",
    "456abc@yahoo.com\n",
    "\n",
    "abc_456@gitam.ed1\n",
    "\n",
    "abc-456@abc-d.in\n",
    "\n",
    "python@python.edu\n",
    "\n",
    "abc 456@edu.edu\n",
    "\n",
    "Sample Output : Valid\n",
    "\n",
    "Invalid\n",
    "\n",
    "Invalid\n",
    "\n",
    "Invalid\n",
    "\n",
    "Valid\n",
    "\n",
    "Invalid"
   ]
  },
  {
   "cell_type": "code",
   "execution_count": 17,
   "metadata": {},
   "outputs": [
    {
     "name": "stdout",
     "output_type": "stream",
     "text": [
      "Valid\n",
      "invalid\n",
      "invalid\n",
      "invalid\n",
      "Valid\n",
      "invalid\n"
     ]
    }
   ],
   "source": [
    "import re\n",
    "def mail(emailid):\n",
    "    m=re.fullmatch('^[a-z][a-z0-9_.]{5,15}[@][a-z0-9]{3,10}[.][a-z]{2,4}?$',emailid)\n",
    "    if m!=None:\n",
    "        return \"Valid\"\n",
    "    else:\n",
    "        return \"invalid\"\n",
    "\n",
    "print(mail('abc456@gmail.com'))\n",
    "print(mail(\"456abc@yahoo.com\"))\n",
    "print(mail('abc_456@gitam.ed1'))\n",
    "print(mail('abc-456@abc-d.in'))\n",
    "print(mail('python@python.edu'))\n",
    "print(mail('abc 456@edu.edu'))\n",
    "\n"
   ]
  },
  {
   "cell_type": "code",
   "execution_count": null,
   "metadata": {},
   "outputs": [],
   "source": []
  }
 ],
 "metadata": {
  "kernelspec": {
   "display_name": "Python 3",
   "language": "python",
   "name": "python3"
  },
  "language_info": {
   "codemirror_mode": {
    "name": "ipython",
    "version": 3
   },
   "file_extension": ".py",
   "mimetype": "text/x-python",
   "name": "python",
   "nbconvert_exporter": "python",
   "pygments_lexer": "ipython3",
   "version": "3.7.3"
  }
 },
 "nbformat": 4,
 "nbformat_minor": 2
}
