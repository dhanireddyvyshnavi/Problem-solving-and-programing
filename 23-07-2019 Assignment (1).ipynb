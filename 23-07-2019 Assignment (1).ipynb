{
 "cells": [
  {
   "cell_type": "markdown",
   "metadata": {},
   "source": [
    "### Write a Python program to convert a given  list to a tuple. [5, 10, 7, 4, 15, 3] \n"
   ]
  },
  {
   "cell_type": "code",
   "execution_count": 1,
   "metadata": {},
   "outputs": [
    {
     "name": "stdout",
     "output_type": "stream",
     "text": [
      "(5, 10, 7, 4, 15, 3)\n"
     ]
    }
   ],
   "source": [
    "lst=[5, 10, 7, 4, 15, 3] \n",
    "t=tuple(lst)\n",
    "print(t)"
   ]
  },
  {
   "cell_type": "markdown",
   "metadata": {},
   "source": [
    "### Write a Python program to get the 4th element from first  and 4th element from last of a tuple. \n",
    "\n",
    "( \"p\" , \"y\" , \"t\", \"h\" , \"o\" , \"n\" , \"p\" , \"r\" , \"o\" , \"g\" , \"r\" , \"a\" , \"m\" , \"m\" , \"i\" , \"n\" , \"g\" )\n"
   ]
  },
  {
   "cell_type": "code",
   "execution_count": 3,
   "metadata": {
    "scrolled": true
   },
   "outputs": [
    {
     "name": "stdout",
     "output_type": "stream",
     "text": [
      "hm\n"
     ]
    }
   ],
   "source": [
    "t=( \"p\" , \"y\" , \"t\", \"h\" , \"o\" , \"n\" , \"p\" , \"r\" , \"o\" , \"g\" , \"r\" , \"a\" , \"m\" , \"m\" , \"i\" , \"n\" , \"g\" )\n",
    "\n",
    "print(t[3]+t[-4])\n",
    "\n"
   ]
  },
  {
   "cell_type": "markdown",
   "metadata": {},
   "source": [
    "### Write a python program to find largest number in a given list with out using max() .[10, 7 , 0 ,14 , 4 , 2 ]\n"
   ]
  },
  {
   "cell_type": "code",
   "execution_count": 5,
   "metadata": {},
   "outputs": [
    {
     "data": {
      "text/plain": [
       "14"
      ]
     },
     "execution_count": 5,
     "metadata": {},
     "output_type": "execute_result"
    }
   ],
   "source": [
    "l=[10, 7 , 0 ,14 , 4 , 2 ]\n",
    "\n",
    "def maxElementDS(ds):\n",
    "    m = ds[0]\n",
    "    for i in ds:\n",
    "        if i>m:\n",
    "            m = i\n",
    "    return m\n",
    "maxElementDS(l)\n"
   ]
  },
  {
   "cell_type": "markdown",
   "metadata": {},
   "source": [
    "### Write a python program to print all even numbers from a given list .[111 , 4 , 7 , 16 , 27 , 40 , 18 , 99 ,101, 14]\n"
   ]
  },
  {
   "cell_type": "code",
   "execution_count": 13,
   "metadata": {
    "scrolled": true
   },
   "outputs": [
    {
     "name": "stdout",
     "output_type": "stream",
     "text": [
      "4\n",
      "16\n",
      "40\n",
      "18\n",
      "14\n"
     ]
    }
   ],
   "source": [
    "lst=[111 , 4 , 7 , 16 , 27 , 40 , 18 , 99 ,101, 14]\n",
    "for i in lst:\n",
    "    if i%2 == 0:\n",
    "        print(i)\n",
    "\n",
    "        \n",
    "    \n",
    "    "
   ]
  },
  {
   "cell_type": "markdown",
   "metadata": {},
   "source": [
    "### Write a Python script to add a key to a dictionary. \n",
    "\n",
    "  ###   Sample Dictionary : {0: 10, 1: 20}\n",
    "\n",
    " ###   Expected Result : {0: 10, 1: 20, 2: 30}"
   ]
  },
  {
   "cell_type": "code",
   "execution_count": 11,
   "metadata": {},
   "outputs": [
    {
     "name": "stdout",
     "output_type": "stream",
     "text": [
      "{0: 10, 1: 20, 2: 30}\n"
     ]
    }
   ],
   "source": [
    "n={0: 10, 1: 20}\n",
    "\n",
    "n[2]=30\n",
    "print(n)"
   ]
  },
  {
   "cell_type": "markdown",
   "metadata": {},
   "source": [
    "### Write a Python script to generate and print a dictionary that contains a number (between 1 and n) in the form (x, x*x) \n",
    "\n",
    "### Sample Dictionary ( n = 5) : \n",
    "\n",
    " ### Expected Output : {1: 1, 2: 4, 3: 9, 4: 16, 5: 25}  \n",
    "    "
   ]
  },
  {
   "cell_type": "code",
   "execution_count": 9,
   "metadata": {},
   "outputs": [
    {
     "name": "stdout",
     "output_type": "stream",
     "text": [
      "Enter a number:5\n",
      "{1: 1, 2: 4, 3: 9, 4: 16, 5: 25}\n"
     ]
    }
   ],
   "source": [
    "\n",
    "n=int(input(\"Enter a number:\"))\n",
    "d={x:x*x for x in range(1,n+1)}\n",
    "print(d)\n"
   ]
  }
 ],
 "metadata": {
  "kernelspec": {
   "display_name": "Python 3",
   "language": "python",
   "name": "python3"
  },
  "language_info": {
   "codemirror_mode": {
    "name": "ipython",
    "version": 3
   },
   "file_extension": ".py",
   "mimetype": "text/x-python",
   "name": "python",
   "nbconvert_exporter": "python",
   "pygments_lexer": "ipython3",
   "version": "3.7.3"
  }
 },
 "nbformat": 4,
 "nbformat_minor": 2
}
