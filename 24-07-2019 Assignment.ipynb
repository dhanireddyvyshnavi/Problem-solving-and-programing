{
 "cells": [
  {
   "cell_type": "markdown",
   "metadata": {},
   "source": [
    "###  1.Define a function to identity the number of times a substring is repeating in a given string\n",
    "\n",
    "substringCount('str', 'substr') -> 1\n",
    "\n",
    "substringCount('1234567891122334455', '3') -> 3\n",
    "\n",
    "substringCount('abccddccc', 'cc') -> 3\n",
    "\n",
    "substringCount('aaaaaaa', 'aaa' ) -> "
   ]
  },
  {
   "cell_type": "code",
   "execution_count": 1,
   "metadata": {},
   "outputs": [
    {
     "name": "stdout",
     "output_type": "stream",
     "text": [
      "0\n"
     ]
    }
   ],
   "source": [
    "a=('str', 'substr')\n",
    "s=a[0]\n",
    "sub=a[1]\n",
    "print(s.count(sub))\n",
    "\n"
   ]
  },
  {
   "cell_type": "code",
   "execution_count": 2,
   "metadata": {},
   "outputs": [
    {
     "name": "stdout",
     "output_type": "stream",
     "text": [
      "3\n"
     ]
    }
   ],
   "source": [
    "a=('1234567891122334455', '3')\n",
    "s=a[0]\n",
    "sub=a[1]\n",
    "print(s.count(sub))\n",
    "\n"
   ]
  },
  {
   "cell_type": "code",
   "execution_count": 3,
   "metadata": {
    "scrolled": true
   },
   "outputs": [
    {
     "name": "stdout",
     "output_type": "stream",
     "text": [
      "2\n"
     ]
    }
   ],
   "source": [
    "a=('abccddccc', 'cc')\n",
    "s=a[0]\n",
    "sub=a[1]\n",
    "print(s.count(sub))\n",
    "\n"
   ]
  },
  {
   "cell_type": "code",
   "execution_count": 4,
   "metadata": {},
   "outputs": [
    {
     "name": "stdout",
     "output_type": "stream",
     "text": [
      "2\n"
     ]
    }
   ],
   "source": [
    "a=('aaaaaaa', 'aaa' ) \n",
    "s=a[0]\n",
    "sub=a[1]\n",
    "print(s.count(sub))\n"
   ]
  },
  {
   "cell_type": "markdown",
   "metadata": {},
   "source": [
    "### 2.Define a function to merge the characters of two strings alternatively. The remaining characters of the longer string are printed in the same order at the end.\n",
    "\n",
    "mergeString('abcd', 'abcd') -> 'aabbccdd'\n",
    "\n",
    "mergeString('abc', '123456') -> 'a1b2c3456'\n",
    "\n",
    "mergeString('0', '123456') -> '0123456'"
   ]
  },
  {
   "cell_type": "code",
   "execution_count": 5,
   "metadata": {},
   "outputs": [
    {
     "name": "stdout",
     "output_type": "stream",
     "text": [
      "aabbccdd\n"
     ]
    }
   ],
   "source": [
    "n=('abcd', 'abcd')\n",
    "a=n[0]\n",
    "b=n[1]\n",
    "m=min(len(a),len(b))\n",
    "merg=[''] * m * 2\n",
    "merg[::2] = a[:m]\n",
    "merg[1::2] = b[:m]\n",
    "merg+=a[m:]+b[m:]\n",
    "print(''.join(merg))\n",
    "\n"
   ]
  },
  {
   "cell_type": "code",
   "execution_count": 6,
   "metadata": {},
   "outputs": [
    {
     "name": "stdout",
     "output_type": "stream",
     "text": [
      "a1b2c3456\n"
     ]
    }
   ],
   "source": [
    "n=('abc', '123456') \n",
    "a=n[0]\n",
    "b=n[1]\n",
    "m=min(len(a),len(b))\n",
    "merg=[''] * m * 2\n",
    "merg[::2] = a[:m]\n",
    "merg[1::2] = b[:m]\n",
    "merg+=a[m:]+b[m:]\n",
    "print(''.join(merg))\n"
   ]
  },
  {
   "cell_type": "code",
   "execution_count": 7,
   "metadata": {},
   "outputs": [
    {
     "name": "stdout",
     "output_type": "stream",
     "text": [
      "0123456\n"
     ]
    }
   ],
   "source": [
    "n=('0', '123456')\n",
    "a=n[0]\n",
    "b=n[1]\n",
    "m=min(len(a),len(b))\n",
    "merg=[''] * m * 2\n",
    "merg[::2] = a[:m]\n",
    "merg[1::2] = b[:m]\n",
    "merg+=a[m:]+b[m:]\n",
    "print(''.join(merg))\n",
    "\n"
   ]
  },
  {
   "cell_type": "markdown",
   "metadata": {},
   "source": [
    "### 3. Define a function to validate email addresses based on the following rules.\n",
    "Email should be in the format username@domain.extension\n",
    "username must start with an alphabet and can contain lowercase alphabet, digits, hyphen(-) and underscores( _ ).\n",
    "username must not contain special characters, uppercase letters, whitespaces.\n",
    "Length of username must be in the range (6, 16)\n",
    "Domain can only contain lowercase alphabet and digits with length in range (3, 10) . No special characters are allowed\n",
    "Extension can only contain lower case alphabet and its length must be in the range (2, 4)\n",
    "First line of input contains total number of email addresses n. Next n lines contain n email addresses.\n",
    "\n",
    "Output must contain contain n lines with either 'Valid' or 'Invalid'\n",
    "\n",
    "Sample Input : 6\n",
    "\n",
    "abc456@gmail.com\n",
    "\n",
    "456abc@yahoo.com\n",
    "\n",
    "abc_456@gitam.ed1\n",
    "\n",
    "abc-456@abc-d.in\n",
    "\n",
    "python@python.edu\n",
    "\n",
    "abc 456@edu.edu\n",
    "\n",
    "Sample Output : Valid\n",
    "\n",
    "Invalid\n",
    "\n",
    "Invalid\n",
    "\n",
    "Invalid\n",
    "\n",
    "Valid\n",
    "\n",
    "Invalid"
   ]
  },
  {
   "cell_type": "code",
   "execution_count": 8,
   "metadata": {},
   "outputs": [
    {
     "name": "stdout",
     "output_type": "stream",
     "text": [
      "Enter Mail Id:abc456@gmail.com\n",
      "Valid\n"
     ]
    }
   ],
   "source": [
    "import re\n",
    "s=input(\"Enter Mail Id:\")\n",
    "m=re.fullmatch('^[a-z1-9_-][a-z0-9.]{5,15}[@][a-z0-9]{3,10}[.][a-z]{2,4}?$',s)\n",
    "if m!=None:\n",
    "    print(\"Valid\")\n",
    "else:\n",
    "    print(\"invalid\")\n",
    "  \n"
   ]
  },
  {
   "cell_type": "code",
   "execution_count": null,
   "metadata": {},
   "outputs": [],
   "source": []
  }
 ],
 "metadata": {
  "kernelspec": {
   "display_name": "Python 3",
   "language": "python",
   "name": "python3"
  },
  "language_info": {
   "codemirror_mode": {
    "name": "ipython",
    "version": 3
   },
   "file_extension": ".py",
   "mimetype": "text/x-python",
   "name": "python",
   "nbconvert_exporter": "python",
   "pygments_lexer": "ipython3",
   "version": "3.7.3"
  }
 },
 "nbformat": 4,
 "nbformat_minor": 2
}
