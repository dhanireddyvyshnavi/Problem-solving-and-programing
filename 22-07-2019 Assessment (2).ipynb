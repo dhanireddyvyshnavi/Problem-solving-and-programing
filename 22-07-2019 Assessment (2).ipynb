{
 "cells": [
  {
   "cell_type": "markdown",
   "metadata": {},
   "source": [
    "\n",
    "### Define a Function to Preform Sum Of Natural Numbers."
   ]
  },
  {
   "cell_type": "code",
   "execution_count": 7,
   "metadata": {},
   "outputs": [
    {
     "name": "stdout",
     "output_type": "stream",
     "text": [
      "325\n"
     ]
    }
   ],
   "source": [
    "def naturalnum(A):   \n",
    "    A=(A*(A+1))/2\n",
    "    print(round(A))\n",
    "    \n",
    "naturalnum(25)        \n",
    "            \n",
    "        \n",
    "        "
   ]
  },
  {
   "cell_type": "markdown",
   "metadata": {},
   "source": [
    "### Using String Slicing Print the Reverse Of Middle Characters of Ur Mobile Number.\n"
   ]
  },
  {
   "cell_type": "code",
   "execution_count": 37,
   "metadata": {},
   "outputs": [
    {
     "data": {
      "text/plain": [
       "'52'"
      ]
     },
     "execution_count": 37,
     "metadata": {},
     "output_type": "execute_result"
    }
   ],
   "source": [
    "N='7416251307'\n",
    "N[5:3:-1]\n"
   ]
  },
  {
   "cell_type": "markdown",
   "metadata": {},
   "source": [
    "### Define a Function to Print Armstrong Number.\n"
   ]
  },
  {
   "cell_type": "code",
   "execution_count": 2,
   "metadata": {},
   "outputs": [
    {
     "name": "stdout",
     "output_type": "stream",
     "text": [
      "it is not Armstrong number\n"
     ]
    }
   ],
   "source": [
    "#n=int(input('enter any value:'))\n",
    "def arm(num):\n",
    "    count=0\n",
    "    n=num\n",
    "    while(n>0):\n",
    "        rem=n%2\n",
    "        count=count+rem**3\n",
    "        n=n/10\n",
    "    if(num==count):\n",
    "        print(\"it is Armstrong number\")\n",
    "    else:\n",
    "        print(\"it is not Armstrong number\")\n",
    "arm(100)    \n",
    "    "
   ]
  }
 ],
 "metadata": {
  "kernelspec": {
   "display_name": "Python 3",
   "language": "python",
   "name": "python3"
  },
  "language_info": {
   "codemirror_mode": {
    "name": "ipython",
    "version": 3
   },
   "file_extension": ".py",
   "mimetype": "text/x-python",
   "name": "python",
   "nbconvert_exporter": "python",
   "pygments_lexer": "ipython3",
   "version": "3.7.3"
  }
 },
 "nbformat": 4,
 "nbformat_minor": 2
}
