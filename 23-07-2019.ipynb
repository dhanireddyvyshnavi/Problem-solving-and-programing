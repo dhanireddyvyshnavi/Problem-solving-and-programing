{
 "cells": [
  {
   "cell_type": "markdown",
   "metadata": {},
   "source": [
    "### Day 7\n",
    "\n",
    "### Date:(23-07-2019)\n",
    "\n",
    "### Day Objectives:\n",
    "\n",
    "    * Tuples\n",
    "    * Dictionaries\n",
    "    * Linear and Binary Search\n",
    "    * Date Arthmetic\n",
    "    * Iterators and Generators\n",
    "    * Functional Programming\n",
    "\n",
    "\n"
   ]
  },
  {
   "cell_type": "markdown",
   "metadata": {},
   "source": [
    "### Python Tuples"
   ]
  },
  {
   "cell_type": "code",
   "execution_count": 2,
   "metadata": {},
   "outputs": [],
   "source": [
    "t1 = (1001,'name',85,72,90)\n"
   ]
  },
  {
   "cell_type": "code",
   "execution_count": 3,
   "metadata": {},
   "outputs": [
    {
     "data": {
      "text/plain": [
       "(1001, 'name', 85, 72, 90)"
      ]
     },
     "execution_count": 3,
     "metadata": {},
     "output_type": "execute_result"
    }
   ],
   "source": [
    "t1"
   ]
  },
  {
   "cell_type": "code",
   "execution_count": 4,
   "metadata": {},
   "outputs": [
    {
     "data": {
      "text/plain": [
       "1001"
      ]
     },
     "execution_count": 4,
     "metadata": {},
     "output_type": "execute_result"
    }
   ],
   "source": [
    "t1[0]"
   ]
  },
  {
   "cell_type": "code",
   "execution_count": 5,
   "metadata": {},
   "outputs": [
    {
     "data": {
      "text/plain": [
       "90"
      ]
     },
     "execution_count": 5,
     "metadata": {},
     "output_type": "execute_result"
    }
   ],
   "source": [
    "t1[-1]"
   ]
  },
  {
   "cell_type": "code",
   "execution_count": 6,
   "metadata": {},
   "outputs": [
    {
     "data": {
      "text/plain": [
       "(85, 72, 90)"
      ]
     },
     "execution_count": 6,
     "metadata": {},
     "output_type": "execute_result"
    }
   ],
   "source": [
    "t1[2:]"
   ]
  },
  {
   "cell_type": "code",
   "execution_count": 13,
   "metadata": {},
   "outputs": [
    {
     "name": "stdout",
     "output_type": "stream",
     "text": [
      "2 5 8\n"
     ]
    }
   ],
   "source": [
    "t2=(321,654,789098) #Accessing all the 2nd digits of elements in a list\n",
    "print(str(t2[0])[1], str(t2[1])[1], str(t2[2])[1])"
   ]
  },
  {
   "cell_type": "code",
   "execution_count": 14,
   "metadata": {},
   "outputs": [
    {
     "name": "stdout",
     "output_type": "stream",
     "text": [
      "258\n"
     ]
    }
   ],
   "source": [
    "t2=(321,654,789098) #Accessing all the 2nd digits of elements in a list\n",
    "print(str(t2[0])[1]+str(t2[1])[1]+str(t2[2])[1])"
   ]
  },
  {
   "cell_type": "code",
   "execution_count": 16,
   "metadata": {},
   "outputs": [
    {
     "data": {
      "text/plain": [
       "263357.6666666667"
      ]
     },
     "execution_count": 16,
     "metadata": {},
     "output_type": "execute_result"
    }
   ],
   "source": [
    "#Function to calculate the Average of all elements in a tuple\n",
    "def averageTuple(t):\n",
    "    sum = 0\n",
    "    for i in range(0,len(t)):\n",
    "        sum += t[i]\n",
    "    return sum/len(t) \n",
    "\n",
    "averageTuple(t2)"
   ]
  },
  {
   "cell_type": "code",
   "execution_count": 21,
   "metadata": {},
   "outputs": [
    {
     "data": {
      "text/plain": [
       "tuple"
      ]
     },
     "execution_count": 21,
     "metadata": {},
     "output_type": "execute_result"
    }
   ],
   "source": [
    "def averageLinearDs(t):\n",
    "    sum = 0\n",
    "    #for i in range(0,len(t)):\n",
    "      #  sum += t[i]\n",
    "    for item in t:\n",
    "        sum+= item\n",
    "    return sum/len(t) \n",
    "li=[123,234,456,678,890]\n",
    "\n",
    "averageLinearDs(li)\n",
    "type(t1)\n",
    "    "
   ]
  },
  {
   "cell_type": "code",
   "execution_count": 18,
   "metadata": {},
   "outputs": [
    {
     "data": {
      "text/plain": [
       "2"
      ]
     },
     "execution_count": 18,
     "metadata": {},
     "output_type": "execute_result"
    }
   ],
   "source": [
    "#Function to search in a Linear Data Structure\n",
    "def searchLinearDS(ds,key):\n",
    "    for i in range(0,len(ds)):\n",
    "        if ds[i] == key:\n",
    "            return i\n",
    "    return -1    \n",
    "searchLinearDS(li,456)    "
   ]
  },
  {
   "cell_type": "markdown",
   "metadata": {},
   "source": [
    "### Iterable Objects"
   ]
  },
  {
   "cell_type": "code",
   "execution_count": 24,
   "metadata": {},
   "outputs": [
    {
     "name": "stdout",
     "output_type": "stream",
     "text": [
      "p\n",
      "y\n",
      "t\n",
      "h\n",
      "o\n",
      "n\n"
     ]
    }
   ],
   "source": [
    "s='python'\n",
    "for i in s:\n",
    "    print(i)"
   ]
  },
  {
   "cell_type": "code",
   "execution_count": 27,
   "metadata": {},
   "outputs": [
    {
     "name": "stdout",
     "output_type": "stream",
     "text": [
      "python"
     ]
    }
   ],
   "source": [
    "s='python'\n",
    "for i in s:\n",
    "    print(i,end='')"
   ]
  },
  {
   "cell_type": "code",
   "execution_count": 28,
   "metadata": {},
   "outputs": [
    {
     "data": {
      "text/plain": [
       "759684"
      ]
     },
     "execution_count": 28,
     "metadata": {},
     "output_type": "execute_result"
    }
   ],
   "source": [
    "# function to identify the maximum element in a Ds using iterable object\n",
    "max([123,85,759684])"
   ]
  },
  {
   "cell_type": "code",
   "execution_count": 36,
   "metadata": {},
   "outputs": [
    {
     "data": {
      "text/plain": [
       "890"
      ]
     },
     "execution_count": 36,
     "metadata": {},
     "output_type": "execute_result"
    }
   ],
   "source": [
    "# function to identify the maximum element in a Ds using iterable object\n",
    "def maxElementDS(ds):\n",
    "    m = ds[0]\n",
    "    for i in ds:\n",
    "        if i>m:\n",
    "            m = i\n",
    "    return m\n",
    "maxElementDS(li)\n"
   ]
  },
  {
   "cell_type": "code",
   "execution_count": 35,
   "metadata": {},
   "outputs": [
    {
     "data": {
      "text/plain": [
       "123"
      ]
     },
     "execution_count": 35,
     "metadata": {},
     "output_type": "execute_result"
    }
   ],
   "source": [
    "# function to identify the minimum element in a Ds using iterable object\n",
    "def minElementDS(ds):\n",
    "    m = ds[0]\n",
    "    for i in ds:\n",
    "        if i<m:\n",
    "            m = i\n",
    "    return m\n",
    "minElementDS(li)\n"
   ]
  },
  {
   "cell_type": "markdown",
   "metadata": {},
   "source": [
    "### Python Dictionaries"
   ]
  },
  {
   "cell_type": "code",
   "execution_count": 41,
   "metadata": {},
   "outputs": [
    {
     "data": {
      "text/plain": [
       "7416251307"
      ]
     },
     "execution_count": 41,
     "metadata": {},
     "output_type": "execute_result"
    }
   ],
   "source": [
    "d1 = {'name':7416251307,'name2':123456789}\n",
    "d1['name']\n"
   ]
  },
  {
   "cell_type": "code",
   "execution_count": 42,
   "metadata": {},
   "outputs": [
    {
     "data": {
      "text/plain": [
       "dict_keys(['name', 'name2'])"
      ]
     },
     "execution_count": 42,
     "metadata": {},
     "output_type": "execute_result"
    }
   ],
   "source": [
    "d1 = {'name':7416251307,'name2':123456789}\n",
    "d1.keys()# all keys in a dict are unique"
   ]
  },
  {
   "cell_type": "code",
   "execution_count": 43,
   "metadata": {},
   "outputs": [
    {
     "data": {
      "text/plain": [
       "dict_values([7416251307, 123456789])"
      ]
     },
     "execution_count": 43,
     "metadata": {},
     "output_type": "execute_result"
    }
   ],
   "source": [
    "d1 = {'name':7416251307,'name2':123456789}\n",
    "d1.values()"
   ]
  },
  {
   "cell_type": "code",
   "execution_count": 44,
   "metadata": {},
   "outputs": [],
   "source": [
    "d1['name3']=987654321"
   ]
  },
  {
   "cell_type": "code",
   "execution_count": 45,
   "metadata": {},
   "outputs": [
    {
     "data": {
      "text/plain": [
       "{'name': 7416251307, 'name2': 123456789, 'name3': 987654321}"
      ]
     },
     "execution_count": 45,
     "metadata": {},
     "output_type": "execute_result"
    }
   ],
   "source": [
    "d1"
   ]
  },
  {
   "cell_type": "code",
   "execution_count": 47,
   "metadata": {},
   "outputs": [
    {
     "data": {
      "text/plain": [
       "123456789"
      ]
     },
     "execution_count": 47,
     "metadata": {},
     "output_type": "execute_result"
    }
   ],
   "source": [
    "d1.pop('name2')#removes a key and value"
   ]
  },
  {
   "cell_type": "code",
   "execution_count": 48,
   "metadata": {},
   "outputs": [
    {
     "data": {
      "text/plain": [
       "{'name': 7416251307, 'name3': 987654321}"
      ]
     },
     "execution_count": 48,
     "metadata": {},
     "output_type": "execute_result"
    }
   ],
   "source": [
    "d1"
   ]
  },
  {
   "cell_type": "code",
   "execution_count": 56,
   "metadata": {},
   "outputs": [],
   "source": [
    "#Contacts application\n",
    "#Display,Add,Modify and Delete Contacts\n",
    "contacts = {}\n",
    "def addContact(d,name,phone):\n",
    "    contacts[name] = phone\n",
    "    return\n",
    "\n",
    "def displayContacts(contacts):\n",
    "    for name,phone  in contacts.items():\n",
    "        print(name, \":\" ,phone)\n",
    "    return    \n",
    "        \n",
    "    \n"
   ]
  },
  {
   "cell_type": "code",
   "execution_count": 57,
   "metadata": {},
   "outputs": [],
   "source": [
    "addContact(contacts, 'name1' ,7416251307)\n",
    "addContact(contacts, 'name2' ,1307)\n",
    "\n"
   ]
  },
  {
   "cell_type": "code",
   "execution_count": 58,
   "metadata": {
    "scrolled": true
   },
   "outputs": [
    {
     "name": "stdout",
     "output_type": "stream",
     "text": [
      "name1 : 7416251307\n",
      "name2 : 1307\n"
     ]
    }
   ],
   "source": [
    "displayContacts(contacts)\n"
   ]
  },
  {
   "cell_type": "code",
   "execution_count": 60,
   "metadata": {},
   "outputs": [],
   "source": [
    "contacts = {}\n",
    "def addContact(d,name,phone):\n",
    "    contacts[name] = phone\n",
    "    return\n",
    "addContact(contacts, 'name1' ,7416251307)\n",
    "addContact(contacts, 'name2' ,1307)\n",
    "\n",
    "\n",
    "def displayContacts(contacts):\n",
    "    for name,phone  in contacts.items():\n",
    "        print(name, \":\" ,phone)\n",
    "    return   \n",
    "def modifyContacts(contacts,name,newphone):\n",
    "    contacts[name] = newphone\n",
    "    return"
   ]
  },
  {
   "cell_type": "code",
   "execution_count": 61,
   "metadata": {},
   "outputs": [],
   "source": [
    "addContact(contacts, 'name1' ,7407)\n",
    "addContact(contacts, 'name2' ,130)\n",
    "\n"
   ]
  },
  {
   "cell_type": "code",
   "execution_count": 62,
   "metadata": {},
   "outputs": [
    {
     "name": "stdout",
     "output_type": "stream",
     "text": [
      "name1 : 7407\n",
      "name2 : 130\n"
     ]
    }
   ],
   "source": [
    "displayContacts(contacts)\n"
   ]
  },
  {
   "cell_type": "code",
   "execution_count": 69,
   "metadata": {},
   "outputs": [],
   "source": [
    "\n",
    "contacts = {}\n",
    "def addContact(d,name,phone):\n",
    "    contacts[name] = phone\n",
    "    return\n",
    "addContact(contacts, 'name1' ,7416251307)\n",
    "def displayContacts(contacts):\n",
    "    for name,phone  in contacts.items():\n",
    "        print(name, \":\" ,phone)\n",
    "    return   \n",
    "\n",
    "def deleteContacts(contacts,name):\n",
    "    contacts.pop(name)\n",
    "    return    "
   ]
  },
  {
   "cell_type": "code",
   "execution_count": 70,
   "metadata": {},
   "outputs": [],
   "source": [
    "\n",
    "addContact(contacts, 'name1' ,7416251307)\n"
   ]
  },
  {
   "cell_type": "code",
   "execution_count": 71,
   "metadata": {},
   "outputs": [
    {
     "name": "stdout",
     "output_type": "stream",
     "text": [
      "name1 : 7416251307\n"
     ]
    }
   ],
   "source": [
    "displayContacts(contacts)\n"
   ]
  },
  {
   "cell_type": "markdown",
   "metadata": {},
   "source": [
    "### Looping Over Collections"
   ]
  },
  {
   "cell_type": "code",
   "execution_count": 73,
   "metadata": {},
   "outputs": [
    {
     "name": "stdout",
     "output_type": "stream",
     "text": [
      "white\n",
      "blue\n",
      "red\n"
     ]
    }
   ],
   "source": [
    "colors=['red','blue','white']\n",
    "for i in range(len(colors)-1,-1,-1):\n",
    "    print(colors[i])"
   ]
  },
  {
   "cell_type": "code",
   "execution_count": 74,
   "metadata": {},
   "outputs": [
    {
     "data": {
      "text/plain": [
       "dict_items([('name1', 7416251307)])"
      ]
     },
     "execution_count": 74,
     "metadata": {},
     "output_type": "execute_result"
    }
   ],
   "source": [
    "contacts.items()"
   ]
  },
  {
   "cell_type": "code",
   "execution_count": 80,
   "metadata": {},
   "outputs": [
    {
     "name": "stdout",
     "output_type": "stream",
     "text": [
      "[5, 4, 3, 2, 1]\n"
     ]
    }
   ],
   "source": [
    "li2=[1,2,3,4,5]\n",
    "li2=list(reversed(li2))\n",
    "print(li2)"
   ]
  },
  {
   "cell_type": "code",
   "execution_count": 82,
   "metadata": {},
   "outputs": [
    {
     "data": {
      "text/plain": [
       "[5, 4, 3, 2, 1]"
      ]
     },
     "execution_count": 82,
     "metadata": {},
     "output_type": "execute_result"
    }
   ],
   "source": [
    "li2=[1,2,3,4,5]\n",
    "li2.reverse()\n",
    "li2"
   ]
  },
  {
   "cell_type": "markdown",
   "metadata": {},
   "source": [
    "### Regular Expression"
   ]
  },
  {
   "cell_type": "markdown",
   "metadata": {},
   "source": [
    "[0-9] RE for all digits\n",
    "[0,1,2....9]\n",
    "\n",
    "[a-z] RE for all lower case alphabet\n",
    "[A-Z] RE for all upper case alphabet\n",
    "\n",
    "[10]"
   ]
  },
  {
   "cell_type": "code",
   "execution_count": null,
   "metadata": {},
   "outputs": [],
   "source": [
    "# function to validate college student roll no\n",
    "# function to validate indian phone number starting with 9,8,7,6 and have 10 digits\n",
    "# function to validate email address\n",
    "\n",
    "username@domain.extension\n",
    "username=(string of length 9. can contain digits and alphabet)\n",
    "domain=(string of 9.can)\n",
    "extension=(length of 3. only alphabet)"
   ]
  },
  {
   "cell_type": "code",
   "execution_count": 7,
   "metadata": {
    "scrolled": true
   },
   "outputs": [],
   "source": [
    "   # ^[9876][0-9]{9}$ # logic for mobile number checking in RE"
   ]
  },
  {
   "cell_type": "code",
   "execution_count": 8,
   "metadata": {},
   "outputs": [],
   "source": [
    "# logic for email  checking in RE\n",
    "\n",
    "#   ^[a].{5}[a]$   \n",
    "#  '^[a-z][a-z0-9_.]{5,14}][@][a-z0-9]{3,12}[.][a-z]{2,3}$'"
   ]
  },
  {
   "cell_type": "code",
   "execution_count": 10,
   "metadata": {},
   "outputs": [
    {
     "data": {
      "text/plain": [
       "True"
      ]
     },
     "execution_count": 10,
     "metadata": {},
     "output_type": "execute_result"
    }
   ],
   "source": [
    "import re\n",
    "def phonenumberValidator(phone):\n",
    "    phone = str(phone)\n",
    "    pattern ='^[6-9][0-9]{9}$'\n",
    "    if re.match(pattern,phone):\n",
    "        return True\n",
    "    return False\n",
    "\n",
    "phonenumberValidator(7416251307)"
   ]
  },
  {
   "cell_type": "code",
   "execution_count": 30,
   "metadata": {},
   "outputs": [
    {
     "data": {
      "text/plain": [
       "False"
      ]
     },
     "execution_count": 30,
     "metadata": {},
     "output_type": "execute_result"
    }
   ],
   "source": [
    "import re\n",
    "def emailValidator(email):\n",
    "    email = str(email)\n",
    "    pattern ='^[a-z][a-z0-9_.]{5,14}][@][a-z0-9]{3,12}[.][2,3][.]?$'\n",
    "    if re.match(pattern,email):\n",
    "        return True\n",
    "    return False\n",
    "\n",
    "emailValidator('vyshoin@gmail.com')"
   ]
  },
  {
   "cell_type": "code",
   "execution_count": 24,
   "metadata": {},
   "outputs": [
    {
     "name": "stdout",
     "output_type": "stream",
     "text": [
      "mail:vyshu@gmail.com\n",
      "valid\n"
     ]
    }
   ],
   "source": [
    "import re\n",
    "s=input('mail:')\n",
    "m=re.fullmatch(\"\\w[a-zA-Z0-9-.]*@gmail[.]com\",s)\n",
    "if m!=None:\n",
    "    print('valid')\n",
    "    \n",
    "else:\n",
    "    print('invalid')"
   ]
  },
  {
   "cell_type": "markdown",
   "metadata": {},
   "source": [
    "### python Date Time Arithmetic"
   ]
  },
  {
   "cell_type": "code",
   "execution_count": 32,
   "metadata": {},
   "outputs": [
    {
     "data": {
      "text/plain": [
       "datetime.datetime(2019, 7, 23, 15, 31, 30, 266645)"
      ]
     },
     "execution_count": 32,
     "metadata": {},
     "output_type": "execute_result"
    }
   ],
   "source": [
    "import datetime\n",
    "datetime.datetime.now()"
   ]
  },
  {
   "cell_type": "code",
   "execution_count": 35,
   "metadata": {},
   "outputs": [
    {
     "data": {
      "text/plain": [
       "23"
      ]
     },
     "execution_count": 35,
     "metadata": {},
     "output_type": "execute_result"
    }
   ],
   "source": [
    "import datetime\n",
    "now = datetime.datetime.now()\n",
    "now.day"
   ]
  },
  {
   "cell_type": "code",
   "execution_count": 38,
   "metadata": {},
   "outputs": [
    {
     "data": {
      "text/plain": [
       "42"
      ]
     },
     "execution_count": 38,
     "metadata": {},
     "output_type": "execute_result"
    }
   ],
   "source": [
    "import datetime\n",
    "now = datetime.datetime.now()\n",
    "now.second"
   ]
  },
  {
   "cell_type": "code",
   "execution_count": 39,
   "metadata": {},
   "outputs": [
    {
     "name": "stdout",
     "output_type": "stream",
     "text": [
      "15 34 51\n",
      "2019-07-23 15:34:51.370492\n"
     ]
    }
   ],
   "source": [
    "import datetime\n",
    "now = datetime.datetime.now()\n",
    "print(now.hour,now.minute,now.second)\n",
    "print(now)"
   ]
  },
  {
   "cell_type": "code",
   "execution_count": 12,
   "metadata": {},
   "outputs": [
    {
     "name": "stdout",
     "output_type": "stream",
     "text": [
      "-9131 days, 0:00:00\n"
     ]
    }
   ],
   "source": [
    "# function to find the d/f b/w two given dates\n",
    "\n",
    "#yyyy:mm:dd is the date format as a string\n",
    "#yyyymmdd\n",
    "\n",
    "import datetime\n",
    "def dateDifference(date1,date2):\n",
    "    year1 = int(date1[:4])\n",
    "    month1 = int(date1[5:7])\n",
    "    day1 = int(date1[8:])\n",
    "    year2 = int(date2[:4])\n",
    "    month2 = int(date2[5:7])\n",
    "    day2 = int(date2[8:])\n",
    "    date1 = datetime.date(year1,month1,day1)\n",
    "    date2 = datetime.date(year2,month2,day2)\n",
    "    return date2-date1\n",
    "\n",
    "    \n",
    "print(dateDifference('2019:01:02','1994:01:02') )  "
   ]
  },
  {
   "cell_type": "code",
   "execution_count": null,
   "metadata": {},
   "outputs": [],
   "source": []
  }
 ],
 "metadata": {
  "kernelspec": {
   "display_name": "Python 3",
   "language": "python",
   "name": "python3"
  },
  "language_info": {
   "codemirror_mode": {
    "name": "ipython",
    "version": 3
   },
   "file_extension": ".py",
   "mimetype": "text/x-python",
   "name": "python",
   "nbconvert_exporter": "python",
   "pygments_lexer": "ipython3",
   "version": "3.7.3"
  }
 },
 "nbformat": 4,
 "nbformat_minor": 2
}
